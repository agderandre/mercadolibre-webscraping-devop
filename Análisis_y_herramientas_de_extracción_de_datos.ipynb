{
  "nbformat": 4,
  "nbformat_minor": 0,
  "metadata": {
    "colab": {
      "provenance": [],
      "include_colab_link": true
    },
    "kernelspec": {
      "name": "python3",
      "display_name": "Python 3"
    },
    "language_info": {
      "name": "python"
    }
  },
  "cells": [
    {
      "cell_type": "markdown",
      "metadata": {
        "id": "view-in-github",
        "colab_type": "text"
      },
      "source": [
        "<a href=\"https://colab.research.google.com/github/agderandre/mercadolibre-webscraping-devop/blob/main/An%C3%A1lisis_y_herramientas_de_extracci%C3%B3n_de_datos.ipynb\" target=\"_parent\"><img src=\"https://colab.research.google.com/assets/colab-badge.svg\" alt=\"Open In Colab\"/></a>"
      ]
    },
    {
      "cell_type": "markdown",
      "source": [
        "## <span style=\"color:#809bd8\"> **Evidencia de aprendizaje 1. Análisis y herramientas de extracción de datos**</span>\n",
        "\n",
        "### <span style=\"color:#809bd8\">**Programación para Análisis de Datos**</span>\n",
        "\n",
        "---\n",
        "**<span style=\"color:#809bd8\">Nombre del estudiante:</span>** **Andres Felipe Osorno Quiroz**\n",
        "\n",
        "**<span style=\"color:#809bd8\">Programa:</span>** **Ingenieria de Software y Datos**\n",
        "\n",
        "**<span style=\"color:#809bd8\">Grupo:</span>** **PREICA2402B020101**\n",
        "\n",
        "**<span style=\"color:#809bd8\">Docente:</span>** **Andrés Felipe Palacio**\n",
        "\n",
        "**<span style=\"color:#809bd8\"></span>** **Institución Universitaria Digital de Antioquia**"
      ],
      "metadata": {
        "id": "uxeh_PDsZi98"
      }
    },
    {
      "cell_type": "markdown",
      "source": [
        "##Introducción\n",
        "\n",
        "La práctica de extracción de datos y análisis de información en línea permite entender patrones de oferta y demanda en diversos productos de consumo masivo. En esta primera evidencia, se aplicará la técnica de scraping para extraer datos de Mercado Libre, una de las plataformas de comercio electrónico más populares en Colombia y Latinoamérica. La información extraída contribuirá a evaluar la oferta de productos relacionados con la astronomía, como los telescopios, los cuales son elementos clave para la observación astronómica y el desarrollo de actividades científicas. Como miembro del capítulo IUDoptica, dedicado a la divulgación de la ciencia óptica en el territorio, es esencial conocer cómo los dispositivos ópticos, como los telescopios, están disponibles para el público general en términos de características, precios y accesibilidad. Esto podría abrir la puerta a futuras campañas de sensibilización y promoción de la astronomía en la región.\n",
        "\n",
        "##Descripción de la página y artículo a analizar\n",
        "\n",
        "La página seleccionada para el análisis es Mercado Libre Colombia, una plataforma de comercio en línea que permite a los usuarios comprar y vender productos nuevos y usados en diversas categorías. En este caso, se han seleccionado los listados de telescopios, productos ópticos que permiten observar objetos astronómicos. Este análisis busca identificar los modelos más vendidos, su rango de precios y las características más destacadas de cada producto. Estos datos ayudarán a entender la disponibilidad y accesibilidad de herramientas de observación astronómica en el mercado colombiano, aportando insumos para actividades de divulgación en el capítulo IUDoptica.\n",
        "\n",
        "##Objetivo general:\n",
        "Realizar un análisis detallado de los telescopios ofrecidos en Mercado Libre, identificando características clave como el precio, el tipo de telescopio, y las marcas disponibles, para fomentar la accesibilidad a herramientas de observación astronómica.\n",
        "\n",
        "###Objetivos específicos:\n",
        "\n",
        "* Explorar las ofertas de telescopios en Mercado Libre, identificando tendencias de precios y modelos más accesibles para el consumidor promedio.\n",
        "* Analizar las características técnicas de los telescopios más vendidos, con el fin de comprender qué opciones existen para usuarios principiantes o aficionados en Colombia.\n",
        "* Evaluar cómo la disponibilidad de estos productos en el comercio electrónico podría facilitar el acceso a la astronomía y la óptica, alineándose con la misión de IUDoptica de fomentar el conocimiento científico en el territorio."
      ],
      "metadata": {
        "id": "S_6twDWl6A5v"
      }
    },
    {
      "cell_type": "code",
      "source": [
        "import requests\n",
        "from bs4 import BeautifulSoup\n",
        "import os\n",
        "import json\n"
      ],
      "metadata": {
        "id": "_JlWZyLGcZr5"
      },
      "execution_count": 1,
      "outputs": []
    },
    {
      "cell_type": "code",
      "source": [
        "#################################################### Cambiosv2, Binoculares\n",
        "def explorar_mercadolibre(pagina_url):\n",
        "    try:\n",
        "        cabeceras_http = {\n",
        "            \"User-Agent\": \"Mozilla/5.0 (Windows NT 10.0; Win64; x64) AppleWebKit/537.36 (KHTML, like Gecko) Chrome/85.0.4183.102 Safari/537.36\"\n",
        "        }\n",
        "\n",
        "        respuesta = requests.get(pagina_url, headers=cabeceras_http)\n",
        "        respuesta.raise_for_status()\n",
        "        contenido_html = BeautifulSoup(respuesta.content, \"html.parser\")\n",
        "\n",
        "        articulos = contenido_html.find_all(\"li\", class_=\"ui-search-layout__item\")\n",
        "        if not articulos:\n",
        "            return []\n",
        "\n",
        "        productos = []\n",
        "        for articulo in articulos:\n",
        "            nombre_articulo = articulo.find(\"h2\", class_=\"poly-box poly-component__title\")\n",
        "            nombre = nombre_articulo.text.strip() if nombre_articulo else \"Nombre no disponible\"\n",
        "\n",
        "            precio_articulo = articulo.find(\"span\", class_=\"andes-money-amount__fraction\")\n",
        "            precio = precio_articulo.text.strip() if precio_articulo else \"Precio no disponible\"\n",
        "\n",
        "            productos.append({\"nombre\": nombre, \"precio\": precio})\n",
        "\n",
        "        # Guardar los datos en un archivo JSON\n",
        "        with open(\"productos.json\", \"w\", encoding=\"utf-8\") as archivo_json:\n",
        "            json.dump(productos, archivo_json, ensure_ascii=False, indent=4)\n",
        "\n",
        "        return productos\n",
        "\n",
        "    except requests.exceptions.RequestException as error_conexion:\n",
        "        print(f\"Error de conexión: {error_conexion}\")\n",
        "        return []\n",
        "    except Exception as error_general:\n",
        "        print(f\"Error general: {error_general}\")\n",
        "        return []\n",
        "\n",
        "url_busqueda = \"https://listado.mercadolibre.com.co/binoculares#D[A:Binoculares]\"\n",
        "productos = explorar_mercadolibre(url_busqueda)\n",
        "print(productos)\n",
        "\n"
      ],
      "metadata": {
        "id": "xq3xlf0rxc6u",
        "colab": {
          "base_uri": "https://localhost:8080/"
        },
        "outputId": "ef88f080-c2b0-484b-f233-0408c097d24f"
      },
      "execution_count": 5,
      "outputs": [
        {
          "output_type": "stream",
          "name": "stdout",
          "text": [
            "[{'nombre': 'Binoculares Profesionales Potentes Hd Con Estuche', 'precio': '189.000'}, {'nombre': 'Binoculares 20x50 Largo Alcance Potentes + Estuche 562', 'precio': '200.900'}, {'nombre': 'Binoculares Profesional 10x70x70 Largo Alcance Con Estuche Color Negro', 'precio': '122.704'}, {'nombre': 'Binocular Benkoo 20x50 X002B negro con adaptador para telefono', 'precio': '152.887'}, {'nombre': 'Bushnell 10 X 42 Powerview Techo Prisma Binocular', 'precio': '270.000'}, {'nombre': 'Binocular 60x90 potente e impermeable color negro', 'precio': '126.871'}, {'nombre': 'Binocular 10-90x80 Visión Alcance Profesional + Estuche Color Negro', 'precio': '175.500'}, {'nombre': 'Binoculares Profesionales Largo Alcance 90x80 Con Zoom Color Negro', 'precio': '215.632'}, {'nombre': 'Binoculares Profesionales Largo Alcance 20x50 Bushnell Color Negro', 'precio': '105.364'}, {'nombre': 'Binocular Bushnell Pacifica 20x50 Color Negro', 'precio': '134.500'}, {'nombre': 'Binoculares astronómicos Celestron Skymaster 15x70 Bk4, color negro', 'precio': '450.000'}, {'nombre': 'Binocular Bushnell 8x21 Powerview Serie 132514. Color Negro', 'precio': '44.864'}, {'nombre': 'Binocular largo alcance Shilba Compact 8x21 aumento 8x color negro', 'precio': '75.000'}, {'nombre': 'Rikeeyir 10x50 X002B 9x binoculares potentes impermeable excelente alcance color Negro', 'precio': '128.695'}, {'nombre': 'Binoculares 30x60 Mini Binoculares Profesionales Prismáticos Color Negro', 'precio': '60.001'}, {'nombre': 'Tasco binoculares essentials ES103050 color azul petróleo', 'precio': '420.000'}, {'nombre': 'Binoculares 30x60 + Estuche - Alcance 1000x10000 Portable', 'precio': '48.330'}, {'nombre': 'Binoculares Tasco 16 X 32 Potentes Alcance Ligeros + Estuche', 'precio': '236.300'}, {'nombre': 'Celestron Binocular Outland X 10x42- Ref. 71347 Color Negro', 'precio': '816.000'}, {'nombre': 'Binoculares Para Niño Juguete Didáctico Color Azul', 'precio': '94.900'}, {'nombre': 'Binoculares Para Niño Juguete Didáctico Color Rosa', 'precio': '94.900'}, {'nombre': 'Mastertool - Binoculares Pequenos Compactos De 30 X 60 Para', 'precio': '99.000'}, {'nombre': 'Bushnell 10 X 42 Powerview Prisma Techo Binocular', 'precio': '290.000'}, {'nombre': 'Binoculares 20x50 Para Adultos Alta Potencia Hd Con Luz De', 'precio': '148.682'}, {'nombre': 'Binoculares Profesionales Potentes Hd Con Estuche', 'precio': '189.000'}, {'nombre': 'Tasco binocular essentials 170165 color negro 16x50mm', 'precio': '980.000'}, {'nombre': 'Binoculares Larga Vista Potente Prismatico 20x50 Bak-4 Modelo Color Negro', 'precio': '48.575'}, {'nombre': 'Binoculares Para Niños A Prueba De Golpes Regalo Navidad', 'precio': '74.250'}, {'nombre': 'Celestron Binoculares Astro Skymaster 20x80 Con Funda Lujo Color Negro', 'precio': '1.300.500'}, {'nombre': 'Binoculares profesionales de 30x60 de largo alcance y nitidez, color negro', 'precio': '49.900'}, {'nombre': 'Binoculares 20x50 Largo Alcance Potentes + Estuche 562', 'precio': '200.900'}, {'nombre': 'Binoculares Juguete Para Niños Camuflaje Militar Exploración', 'precio': '10.600'}, {'nombre': 'Binoculares 30 X 60 + Estuche', 'precio': '48.660'}, {'nombre': 'Binocular Vision Nocturna Infrarrojo Microsd Envio Ya', 'precio': '708.637'}, {'nombre': 'Binoculares Binocular Profesional 8x21 Camping Pesca', 'precio': '41.900'}, {'nombre': 'Binoculares Camuflaje Militar Juguete Para Niños Exploración', 'precio': '10.600'}, {'nombre': 'Binoculares 30x60 Con Estuche Alcance 1000x10000 Portable One Pixel By 52 Bits Color Negro', 'precio': '54.800'}, {'nombre': 'Binoculares Para Niños Con Aumento Real Aprueba De Golpes', 'precio': '45.000'}, {'nombre': 'Binoculares 30x60 Telescópicos Largo Alcance + Estuche Color Negro', 'precio': '54.900'}, {'nombre': 'Binoculares Tasco Essentials 10x42 Roof Prism Compactos! Color Negro', 'precio': '475.000'}, {'nombre': 'Binoculares 750n Gran Alcance 20x50 Estuche', 'precio': '49.900'}, {'nombre': 'Telescopio Monocular Hd + Tripode + Soporte De Celular', 'precio': '149.000'}, {'nombre': 'Goando 20x50 Binoculares Para Adultos Y Niños Binoculares Co', 'precio': '121.098'}, {'nombre': 'Binoculares Binocular Profesional 8x21 Camping Pesca', 'precio': '41.900'}, {'nombre': 'Binoculares Militares Funcionales Juguete Niños Regalo', 'precio': '16.900'}, {'nombre': 'Binoculares Profesionales 12x42 Potentes Bak4 Gran Alcance', 'precio': '135.000'}, {'nombre': 'Binoculares Celestron Upclose G2 20x50 Ajuste Multiple Color Negro', 'precio': '410.000'}, {'nombre': 'Binoculares 60 X 90 Zoom Lavable Ajustable + Estuche Color Negro', 'precio': '131.631'}, {'nombre': 'Binoculares Profesional Largo Alcance Con Estuche Y Soporte', 'precio': '160.175'}, {'nombre': 'Binoculares Bushnell 133450 Falcon Gran Angular De 10 X 50 Color Negro', 'precio': '70.000'}, {'nombre': 'Binoculares Tasco Compact de 8 x 21 mm, color gris oscuro', 'precio': '49.900'}, {'nombre': 'Binoculares Profesionales Para Adultos,12x42hd, Impermeables', 'precio': '169.000'}]\n"
          ]
        }
      ]
    },
    {
      "cell_type": "code",
      "source": [],
      "metadata": {
        "id": "HiHsjrZpzPRZ"
      },
      "execution_count": null,
      "outputs": []
    }
  ]
}